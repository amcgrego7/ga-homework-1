{
 "cells": [
  {
   "cell_type": "markdown",
   "metadata": {},
   "source": [
    "<img src=\"http://imgur.com/1ZcRyrc.png\" style=\"float: left; margin: 20px; height: 55px\">\n",
    "\n",
    "# Project 1: Python Coding Exercises\n",
    "\n",
    "_Authors: Joseph Nelson (DC) _\n",
    "\n",
    "---"
   ]
  },
  {
   "cell_type": "code",
   "execution_count": null,
   "metadata": {
    "collapsed": true
   },
   "outputs": [],
   "source": [
    "# The following code challenges are drawn from common exercises used in technical interviews.\n",
    "\n",
    "Note that there may be several ways to approach each challenge!\n",
    "\n",
    "RUN CODE USING PYTHON 2!!!"
   ]
  },
  {
   "cell_type": "markdown",
   "metadata": {},
   "source": [
    "### Challenge 1.1: Largest Palindrome\n",
    "A palindromic number reads the same both ways. For example, 1234321 is a palindrome. The largest palindrome made from the product of two two-digit numbers is 9009 = 91 × 99. Find the largest palindrome made from the product of two three-digit numbers."
   ]
  },
  {
   "cell_type": "code",
   "execution_count": 1,
   "metadata": {},
   "outputs": [
    {
     "name": "stdout",
     "output_type": "stream",
     "text": [
      "[906609, 993, 913]\n"
     ]
    }
   ],
   "source": [
    "max_input = 999 #largest three digit number\n",
    "min_input = 100 #smallest 3 digit number\n",
    "\n",
    "max_val = max_input * max_input #998,001 <-- this is the highest possible value we should evaluate as a palindrome\n",
    "min_val = min_input * min_input #10,000 <-- and this is the lowest possible value...\n",
    "\n",
    "palindromes = [] # we'll store our verified palindromes here\n",
    "\n",
    "#first we are going to check each number between 10,000 and 998,001 to determine which ones are palindromes so that \n",
    "#they can get appended to the palindromes list\n",
    "for i in range (min_val, max_val):\n",
    "    product = str(i)\n",
    "    x = 0\n",
    "    while x < len(product)-1:\n",
    "        if product[x] != product[(x*-1)-1]:\n",
    "            break\n",
    "        else:\n",
    "            product[x], product[(x*-1)-1]\n",
    "            x = x + 1\n",
    "            if x == len(product)-1:\n",
    "                palindromes.append(int(product))\n",
    "                \n",
    "#next, we iterate through each palindrome to determine which ones are divisible by two, three digit numbers\n",
    "possible_answers = [] # <-- all of our potential solutions go here, we'll get the best one as our final answer\n",
    "for palindrome in palindromes:\n",
    "    for i in range (min_input, max_input):\n",
    "        if palindrome % i == 0 and len(str(palindrome/i))==3: ## notice the and statement checkes for remainder and len\n",
    "            possible_answers.append([palindrome, i, palindrome/i]) \n",
    "\n",
    "final_answer = possible_answers[-1]\n",
    "print (final_answer) ## output looks like this: [906609, 993, 913]"
   ]
  },
  {
   "cell_type": "markdown",
   "metadata": {},
   "source": [
    "\n",
    "### Challenge 1.2: Summation of Primes\n",
    "The sum of the primes below 10 is 2 + 3 + 5 + 7 = 17. Find the sum of all the primes below 2,000."
   ]
  },
  {
   "cell_type": "code",
   "execution_count": 3,
   "metadata": {
    "scrolled": true
   },
   "outputs": [
    {
     "data": {
      "text/plain": [
       "'The answer is 277050'"
      ]
     },
     "execution_count": 3,
     "metadata": {},
     "output_type": "execute_result"
    }
   ],
   "source": [
    "non_prime_numbers = []\n",
    "prime_numbers = []\n",
    "\n",
    "#yes... I wish I could have just made a list of prime numbers from the start\n",
    "#but I had trouble with the logic and went forwarded with a list of non_prime_numbers\n",
    "for y in range (1, 2000):\n",
    "    for x in range (1, y):\n",
    "        if y % x == 0 and x != 1:\n",
    "            non_prime_numbers.append(y)\n",
    "\n",
    "## used a set to eliminate duplicate values from my list\n",
    "my_set = set(non_prime_numbers)\n",
    "\n",
    "# then I checked numbers 2 - 2000 to see if they were in my set,\n",
    "# if they were not, I appended them to a prime numbers list\n",
    "for i in range(2,2000):\n",
    "    check = (i in my_set)\n",
    "    if check == False:\n",
    "        prime_numbers.append(i)\n",
    "\n",
    "\"The answer is \"+ str(sum(prime_numbers))\n",
    "# the sum of the prime numbers is 277050"
   ]
  },
  {
   "cell_type": "markdown",
   "metadata": {},
   "source": [
    "### Challenge 1.3: Multiples of 3 and 5\n",
    "If we list all of the natural numbers below 10 that are multiples of 3 or 5, we get 3, 5, 6, and 9. The sum of these multiples is 23. Find the sum of all the multiples of 3 and 5 below 1,000."
   ]
  },
  {
   "cell_type": "code",
   "execution_count": 9,
   "metadata": {},
   "outputs": [
    {
     "data": {
      "text/plain": [
       "'The answer is 233168'"
      ]
     },
     "execution_count": 9,
     "metadata": {},
     "output_type": "execute_result"
    }
   ],
   "source": [
    "upper_limit = 1000\n",
    "keepers = [] #where numbers that can be cleanly divided by 3 OR 5 will go\n",
    "\n",
    "#kick off our loop between 0 and 999\n",
    "for i in range(upper_limit):\n",
    "    if i % 3 == 0 or i % 5 == 0:\n",
    "        keepers.append(i)\n",
    "        \n",
    "#print the sum of our numbers\n",
    "\"The answer is \"+str(sum(keepers))"
   ]
  },
  {
   "cell_type": "markdown",
   "metadata": {},
   "source": [
    "\n",
    "### Challenge 2: FizzBuzz\n",
    "Write a program that prints all of the numbers from 1 to 100. For multiples of 3, instead of the number, print \"Fizz;\" for multiples of 5, print \"Buzz.\" For numbers that are multiples of both 3 and 5, print \"FizzBuzz.\" Bonus: If that's too easy, create three unique solutions. Sometimes you'll encounter unexpected constraints, so make sure you're able to think creatively!"
   ]
  },
  {
   "cell_type": "code",
   "execution_count": 10,
   "metadata": {},
   "outputs": [
    {
     "name": "stdout",
     "output_type": "stream",
     "text": [
      "1\n",
      "2\n",
      "Fizz\n",
      "4\n",
      "Buzz\n",
      "Fizz\n",
      "7\n",
      "8\n",
      "Fizz\n",
      "Buzz\n",
      "11\n",
      "Fizz\n",
      "13\n",
      "14\n",
      "FizzBuzz\n",
      "16\n",
      "17\n",
      "Fizz\n",
      "19\n",
      "Buzz\n",
      "Fizz\n",
      "22\n",
      "23\n",
      "Fizz\n",
      "Buzz\n",
      "26\n",
      "Fizz\n",
      "28\n",
      "29\n",
      "FizzBuzz\n",
      "31\n",
      "32\n",
      "Fizz\n",
      "34\n",
      "Buzz\n",
      "Fizz\n",
      "37\n",
      "38\n",
      "Fizz\n",
      "Buzz\n",
      "41\n",
      "Fizz\n",
      "43\n",
      "44\n",
      "FizzBuzz\n",
      "46\n",
      "47\n",
      "Fizz\n",
      "49\n",
      "Buzz\n",
      "Fizz\n",
      "52\n",
      "53\n",
      "Fizz\n",
      "Buzz\n",
      "56\n",
      "Fizz\n",
      "58\n",
      "59\n",
      "FizzBuzz\n",
      "61\n",
      "62\n",
      "Fizz\n",
      "64\n",
      "Buzz\n",
      "Fizz\n",
      "67\n",
      "68\n",
      "Fizz\n",
      "Buzz\n",
      "71\n",
      "Fizz\n",
      "73\n",
      "74\n",
      "FizzBuzz\n",
      "76\n",
      "77\n",
      "Fizz\n",
      "79\n",
      "Buzz\n",
      "Fizz\n",
      "82\n",
      "83\n",
      "Fizz\n",
      "Buzz\n",
      "86\n",
      "Fizz\n",
      "88\n",
      "89\n",
      "FizzBuzz\n",
      "91\n",
      "92\n",
      "Fizz\n",
      "94\n",
      "Buzz\n",
      "Fizz\n",
      "97\n",
      "98\n",
      "Fizz\n",
      "Buzz\n"
     ]
    }
   ],
   "source": [
    "upper_limit = 101 \n",
    "keepers = [] #where numbers that can be cleanly divided by 3 OR 5 will go\n",
    "\n",
    "#kick off our loop between 0 and 999\n",
    "for i in range(1, upper_limit):\n",
    "    if i % 3 == 0 and i % 5 == 0:\n",
    "        print (\"FizzBuzz\")\n",
    "    elif i % 3 == 0:\n",
    "        print (\"Fizz\")\n",
    "    elif i % 5 == 0:\n",
    "        keepers.append(i)\n",
    "        print (\"Buzz\")\n",
    "    else:\n",
    "        print(i)"
   ]
  },
  {
   "cell_type": "markdown",
   "metadata": {},
   "source": [
    "# Challenge 3: String Compressor\n",
    "Implement a method to perform basic string compression using the counts of repeated characters. (This is called run-length encoding.) For example, the string \"aabcccccaaa\" would become a2b1c5a3. If the “compressed” string would not become smaller than the original string, your method should return the original string. You can assume the string has only uppercase and lowercase letters (a–z). Specify whether your solution is case sensitive or case insensitive and what you would need to change to make it the other."
   ]
  },
  {
   "cell_type": "code",
   "execution_count": 11,
   "metadata": {},
   "outputs": [
    {
     "name": "stdout",
     "output_type": "stream",
     "text": [
      "The answer is a2b1c5a3\n"
     ]
    }
   ],
   "source": [
    "str_to_evaluate = \"aabcccccaaa\"\n",
    "counter = 1\n",
    "output_str = \"\" #this is where the answer will be stored\n",
    "\n",
    "# function to compare current letter with next letter\n",
    "def groupby(a, b):\n",
    "    if a == b:\n",
    "        return True \n",
    "    else:\n",
    "        return False\n",
    "    \n",
    "#this is a hack to add a * character to the string, so I don't evaluate an option outside of my list range\n",
    "str_to_evaluate = str_to_evaluate + \"*\"\n",
    "\n",
    "#begin loop to test the current character against the next\n",
    "# if there is a match, move on to the next character\n",
    "# if there is not a match, append the counter along side the character to\n",
    "# output_str\n",
    "for i in range(len(str_to_evaluate)-1):\n",
    "    if groupby(str_to_evaluate[i], str_to_evaluate[i+1]) == True:\n",
    "        counter = counter + 1\n",
    "    elif groupby(str_to_evaluate[i], str_to_evaluate[i+1]) == False:\n",
    "        output_str = output_str + str_to_evaluate[i] + str(counter)\n",
    "        counter = 1\n",
    "        \n",
    "print(\"The answer is \" + output_str)\n",
    "# result is a2b1c5a3\n",
    "\n",
    "# yes, my soultion IS case sensitive, to make it not case sensitive, I would convert all characters to be lower case\n",
    "# prior to executing the for loop. \n",
    "    "
   ]
  },
  {
   "cell_type": "code",
   "execution_count": null,
   "metadata": {
    "collapsed": true
   },
   "outputs": [],
   "source": []
  }
 ],
 "metadata": {
  "anaconda-cloud": {},
  "kernelspec": {
   "display_name": "Python 2",
   "language": "python",
   "name": "python2"
  },
  "language_info": {
   "codemirror_mode": {
    "name": "ipython",
    "version": 2
   },
   "file_extension": ".py",
   "mimetype": "text/x-python",
   "name": "python",
   "nbconvert_exporter": "python",
   "pygments_lexer": "ipython2",
   "version": "2.7.13"
  }
 },
 "nbformat": 4,
 "nbformat_minor": 2
}
